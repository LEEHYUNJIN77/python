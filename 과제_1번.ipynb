{
  "nbformat": 4,
  "nbformat_minor": 0,
  "metadata": {
    "colab": {
      "provenance": [],
      "authorship_tag": "ABX9TyM1knSO/FUvisoJVeh8bQRX",
      "include_colab_link": true
    },
    "kernelspec": {
      "name": "python3",
      "display_name": "Python 3"
    },
    "language_info": {
      "name": "python"
    }
  },
  "cells": [
    {
      "cell_type": "markdown",
      "metadata": {
        "id": "view-in-github",
        "colab_type": "text"
      },
      "source": [
        "<a href=\"https://colab.research.google.com/github/LEEHYUNJIN77/python/blob/main/%EA%B3%BC%EC%A0%9C_1%EB%B2%88.ipynb\" target=\"_parent\"><img src=\"https://colab.research.google.com/assets/colab-badge.svg\" alt=\"Open In Colab\"/></a>"
      ]
    },
    {
      "cell_type": "code",
      "execution_count": 6,
      "metadata": {
        "colab": {
          "base_uri": "https://localhost:8080/"
        },
        "id": "QQXVzKWTVUT5",
        "outputId": "6a69dd2f-bdb2-4f11-b403-d338942a7978"
      },
      "outputs": [
        {
          "output_type": "stream",
          "name": "stdout",
          "text": [
            "## 택배를 보내기 위한 정보를 입력하세요.##\n",
            "받는 사람 :박지은\n",
            "주소 :겨익도\n",
            "무계(g) :225252\n",
            "** 받는 사람 ==> 박지은\n",
            "** 주소 ==> 겨익도\n",
            "**배송비 ==>  1126260 원\n"
          ]
        }
      ],
      "source": [
        "print(\"## 택배를 보내기 위한 정보를 입력하세요.##\")\n",
        "reciveve_name = input(\"받는 사람 :\")\n",
        "address = input(\"주소 :\")\n",
        "weight = input (\"무계(g) :\")\n",
        "weight = int(weight\\)\n",
        "value = weight * 5\n",
        "print(\"** 받는 사람 ==>\", reciveve_name)\n",
        "print(\"** 주소 ==>\", address)\n",
        "print(\"**배송비 ==> \", value, \"원\")"
      ]
    },
    {
      "cell_type": "code",
      "source": [],
      "metadata": {
        "id": "WiMWirtpV-jx"
      },
      "execution_count": null,
      "outputs": []
    }
  ]
}