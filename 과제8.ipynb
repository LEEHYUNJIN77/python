{
  "nbformat": 4,
  "nbformat_minor": 0,
  "metadata": {
    "colab": {
      "provenance": [],
      "authorship_tag": "ABX9TyPwwMVx8GEd1S1yMq5L4j2W",
      "include_colab_link": true
    },
    "kernelspec": {
      "name": "python3",
      "display_name": "Python 3"
    },
    "language_info": {
      "name": "python"
    }
  },
  "cells": [
    {
      "cell_type": "markdown",
      "metadata": {
        "id": "view-in-github",
        "colab_type": "text"
      },
      "source": [
        "<a href=\"https://colab.research.google.com/github/LEEHYUNJIN77/python/blob/main/%EA%B3%BC%EC%A0%9C8.ipynb\" target=\"_parent\"><img src=\"https://colab.research.google.com/assets/colab-badge.svg\" alt=\"Open In Colab\"/></a>"
      ]
    },
    {
      "cell_type": "code",
      "execution_count": 5,
      "metadata": {
        "colab": {
          "base_uri": "https://localhost:8080/"
        },
        "id": "ya7D_CZRXnEv",
        "outputId": "c4716a3d-3d51-4727-9d60-80791b9c3d91"
      },
      "outputs": [
        {
          "output_type": "stream",
          "name": "stdout",
          "text": [
            "43\n"
          ]
        }
      ],
      "source": [
        "import random\n",
        "\n",
        "rndNumber = random. randint(1,45)\n",
        "\n",
        "print(rndNumber)"
      ]
    },
    {
      "cell_type": "code",
      "source": [
        "import random\n",
        "lottoNumber = [0,0,0,0,0,0]\n",
        "\n",
        "for i in range(6):\n",
        "   lottoNumber [i] = random. randint(1,45)\n",
        "for i in range(6):\n",
        "  print(lottoNumber[i],end = \" \")"
      ],
      "metadata": {
        "colab": {
          "base_uri": "https://localhost:8080/"
        },
        "id": "J-MRiBn6ZJUK",
        "outputId": "f1dcd70d-66ba-4448-9036-6142b7b85455"
      },
      "execution_count": 11,
      "outputs": [
        {
          "output_type": "stream",
          "name": "stdout",
          "text": [
            "38 39 6 29 39 9 "
          ]
        }
      ]
    },
    {
      "cell_type": "code",
      "source": [
        "import random\n",
        "\n",
        "random.randint(1,45)\n",
        "foods = [\"떡볶이, 오뎅, 야끼 우동, 크림파스타, 치킨, 짬뽕, 우동, 라면, 아이스크림, 케잌\"]\n",
        "\n",
        "result = random.choice (foods)\n",
        "print(result)"
      ],
      "metadata": {
        "colab": {
          "base_uri": "https://localhost:8080/"
        },
        "id": "UkoW9R3zcc3b",
        "outputId": "78110d07-d453-4424-b852-3d188277b8c9"
      },
      "execution_count": 27,
      "outputs": [
        {
          "output_type": "stream",
          "name": "stdout",
          "text": [
            "떡볶이, 오뎅, 야끼 우동, 크림파스타, 치킨, 짬뽕, 우동, 라면, 아이스크림, 케잌\n"
          ]
        }
      ]
    },
    {
      "cell_type": "code",
      "source": [
        "import random\n",
        "computer = \" \"\n",
        "player = input (\"나의 가위/바위/보 :\")\n",
        "computer = random, random.choice([\"가위\",\"바위\",\"보\"])\n",
        "if computer == player :\n",
        "  print(\"비겼습니다.\")\n",
        "elif (player == \"가위\" and computer == \"보\") or \\\n",
        "(player == \"바위\" and computer == \"가위\") or \\\n",
        "(player == \"보\" and computer == \"바위\") :\n",
        "  print(computer, \"이겼다.\")\n",
        "else :\n",
        "  print(computer, \"졌다.\")"
      ],
      "metadata": {
        "colab": {
          "base_uri": "https://localhost:8080/"
        },
        "id": "wegeiYzgdCa7",
        "outputId": "894cbbb0-82ab-4671-ef36-6186fe643147"
      },
      "execution_count": 32,
      "outputs": [
        {
          "output_type": "stream",
          "name": "stdout",
          "text": [
            "나의 가위/바위/보 :가위\n",
            "(<module 'random' from '/usr/lib/python3.9/random.py'>, '보') 졌다.\n"
          ]
        }
      ]
    }
  ]
}