{
  "nbformat": 4,
  "nbformat_minor": 0,
  "metadata": {
    "colab": {
      "provenance": [],
      "authorship_tag": "ABX9TyOMj+IaZ8tMtckRGCdz5EVe",
      "include_colab_link": true
    },
    "kernelspec": {
      "name": "python3",
      "display_name": "Python 3"
    },
    "language_info": {
      "name": "python"
    }
  },
  "cells": [
    {
      "cell_type": "markdown",
      "metadata": {
        "id": "view-in-github",
        "colab_type": "text"
      },
      "source": [
        "<a href=\"https://colab.research.google.com/github/LEEHYUNJIN77/python/blob/main/%EA%B3%BC%EC%A0%9C_11.ipynb\" target=\"_parent\"><img src=\"https://colab.research.google.com/assets/colab-badge.svg\" alt=\"Open In Colab\"/></a>"
      ]
    },
    {
      "cell_type": "code",
      "execution_count": 5,
      "metadata": {
        "colab": {
          "base_uri": "https://localhost:8080/"
        },
        "id": "fyKBKVmZeYYx",
        "outputId": "41895286-7653-4184-a351-3c7769f034a1"
      },
      "outputs": [
        {
          "output_type": "stream",
          "name": "stdout",
          "text": [
            "숫자 : 1\n",
            "숫자 : 2\n",
            "숫자 : 3\n",
            "숫자 : 4\n",
            "숫자 : 5\n",
            "리스트의 합계 : 15\n"
          ]
        }
      ],
      "source": [
        "num_list = [0,0,0,0,0]\n",
        "\n",
        "num_list[0] = input(\"숫자 : \")\n",
        "num_list[1] = input(\"숫자 : \")\n",
        "num_list[2] = input(\"숫자 : \")\n",
        "num_list[3] = input(\"숫자 : \")\n",
        "num_list[4] = input(\"숫자 : \")\n",
        "\n",
        "sum = int(num_list[0]) + int(num_list[1]) + int(num_list[2]) + int(num_list[3]) + int(num_list[4])\n",
        "print(\"리스트의 합계 :\",sum)"
      ]
    },
    {
      "cell_type": "code",
      "source": [
        "myList = []\n",
        "myList.append(\"안산\")\n",
        "myList.append(\"공고\")\n",
        "myList.append(301)\n",
        "myList.append(19)\n",
        "\n",
        "print(myList)"
      ],
      "metadata": {
        "colab": {
          "base_uri": "https://localhost:8080/"
        },
        "id": "TOHOHBVIsm_A",
        "outputId": "5ae053ee-5204-41c0-d72d-0487e101b395"
      },
      "execution_count": 9,
      "outputs": [
        {
          "output_type": "stream",
          "name": "stdout",
          "text": [
            "['안산', '공고', 301, 19]\n"
          ]
        }
      ]
    },
    {
      "cell_type": "code",
      "source": [
        "import random\n",
        "wiseSay = [\"중요한 것은 꺽이지 않는 마음이다.\",\n",
        "            \"너 자신을 알라.\",\n",
        "            \"피할 수 없으면 즐겨라.\",\n",
        "            \"신은 용기있는 자를 결코 버리지 않는다.\",\n",
        "            \"이 또한 지나가리라.\",\n",
        "           \"언제까지나 제자로서만 머물러 있음은 스승에 대한 좋은 보답이 아니다.\"]\n",
        "rnd_say = random.randint(0,len(wiseSay)-1)\n",
        "print(\"오늘의 명언 ==>\", wiseSay[rnd_say])"
      ],
      "metadata": {
        "colab": {
          "base_uri": "https://localhost:8080/"
        },
        "id": "7tgE7ul1tkxZ",
        "outputId": "a462b2bb-8e44-41af-c9ea-391b949a36bd"
      },
      "execution_count": 27,
      "outputs": [
        {
          "output_type": "stream",
          "name": "stdout",
          "text": [
            "오늘의 명언 ==> 언제까지나 제자로서만 머물러 있음은 스승에 대한 좋은 보답이 아니다.\n"
          ]
        }
      ]
    },
    {
      "cell_type": "code",
      "source": [
        "import datetime\n",
        "\n",
        "now = datetime.data.today()\n",
        "birthday - datetime. data(2005.08.19)\n",
        "age = now - birthday\n",
        "print(age.days/365)"
      ],
      "metadata": {
        "colab": {
          "base_uri": "https://localhost:8080/",
          "height": 136
        },
        "id": "xjKxsEZSxN2h",
        "outputId": "01f9f488-dcab-4046-e6cb-64038e12f405"
      },
      "execution_count": 31,
      "outputs": [
        {
          "output_type": "error",
          "ename": "SyntaxError",
          "evalue": "ignored",
          "traceback": [
            "\u001b[0;36m  File \u001b[0;32m\"<ipython-input-31-e69ec38cbb1a>\"\u001b[0;36m, line \u001b[0;32m4\u001b[0m\n\u001b[0;31m    birthday - datetime. data(2005.08.19)\u001b[0m\n\u001b[0m                                     ^\u001b[0m\n\u001b[0;31mSyntaxError\u001b[0m\u001b[0;31m:\u001b[0m invalid syntax\n"
          ]
        }
      ]
    }
  ]
}