{
  "nbformat": 4,
  "nbformat_minor": 0,
  "metadata": {
    "colab": {
      "provenance": [],
      "authorship_tag": "ABX9TyOTDy9dUAlLeZEBPgq7ULHZ",
      "include_colab_link": true
    },
    "kernelspec": {
      "name": "python3",
      "display_name": "Python 3"
    },
    "language_info": {
      "name": "python"
    }
  },
  "cells": [
    {
      "cell_type": "markdown",
      "metadata": {
        "id": "view-in-github",
        "colab_type": "text"
      },
      "source": [
        "<a href=\"https://colab.research.google.com/github/LEEHYUNJIN77/python/blob/main/%EA%B3%BC%EC%A0%9C5.ipynb\" target=\"_parent\"><img src=\"https://colab.research.google.com/assets/colab-badge.svg\" alt=\"Open In Colab\"/></a>"
      ]
    },
    {
      "cell_type": "code",
      "execution_count": 21,
      "metadata": {
        "colab": {
          "base_uri": "https://localhost:8080/"
        },
        "id": "mHQm7dY2V2RL",
        "outputId": "bf5c3634-fcc4-4427-f992-4d6d109fee7a"
      },
      "outputs": [
        {
          "output_type": "stream",
          "name": "stdout",
          "text": [
            "정보처리기능사 실기 점수 입력 :85\n",
            "합격\n",
            "축하합니다.\n"
          ]
        }
      ],
      "source": [
        "score = int(input(\"정보처리기능사 실기 점수 입력 :\"))\n",
        "\n",
        "if score >= 60 :\n",
        "  print(\"합격\")\n",
        "  print(\"축하합니다.\")\n",
        "else :\n",
        "  print(\"불합격\")"
      ]
    },
    {
      "cell_type": "code",
      "source": [
        "#한줄 주석문 연습\n",
        "\"\"\"\n",
        "프로그래밍 수업 : 3월 20일\n",
        "프로그래머: 이현진\n",
        "프로그램 최종 작성일: 3월 20일\n",
        "프로그램명: 학점 계산 프로그램\n",
        "\"\"\"\n",
        "print(\"파이썬(3) : B(3.5)\\n\")\n",
        "print(\"모바일(2) : AD(4.0)\\n\")\n",
        "print(\"엑셀(1) : A(4.5)\")\n",
        "python = float(input(\"파이썬 성적을 입력(예. 3.5\"))\n",
        "mobile = float(input(\"모바일 성적을 입력 :\"))\n",
        "excel = float(input(\"엑셀 성적을 입력 :\"))\n",
        "\n",
        "result = (python * 3)+ (mobile * 2)+excel\n",
        "avg = result / 6\n",
        "\n",
        "print(\"평균 학점은\", round(avg, 3))"
      ],
      "metadata": {
        "colab": {
          "base_uri": "https://localhost:8080/"
        },
        "id": "_tb6GlWjYMAO",
        "outputId": "7dd67ace-edc7-463c-a34d-8e8432fafcb8"
      },
      "execution_count": 7,
      "outputs": [
        {
          "output_type": "stream",
          "name": "stdout",
          "text": [
            "파이썬(3) : B(3.5)\n",
            "\n",
            "모바일(2) : AD(4.0)\n",
            "\n",
            "엑셀(1) : A(4.5)\n",
            "파이썬 성적을 입력(예. 3.53.5\n",
            "모바일 성적을 입력 :555\n",
            "엑셀 성적을 입력 :66\n",
            "평균 학점은 197.75\n"
          ]
        }
      ]
    },
    {
      "cell_type": "code",
      "source": [
        "print(\"\\n 줄바꿈\\n연습\")\n",
        "print(\"\\t탭키\\t연습\")\n",
        "print(\"어떤 글자를\\\"강조\\\"하는 효과1\")\n",
        "print(\"어떤 글자를\\'강조\\'하는 효과2\")\n",
        "print(\"\\\\\\\\ 백슬래시 2개 출력\")"
      ],
      "metadata": {
        "colab": {
          "base_uri": "https://localhost:8080/"
        },
        "id": "FZCj3-q_bL_g",
        "outputId": "5b994d49-7c8f-44c2-924a-04a607e0764e"
      },
      "execution_count": 13,
      "outputs": [
        {
          "output_type": "stream",
          "name": "stdout",
          "text": [
            "\n",
            " 줄바꿈\n",
            "연습\n",
            "\t탭키\t연습\n",
            "어떤 글자를\"강조\"하는 효과1\n",
            "어떤 글자를'강조'하는 효과2\n",
            "\\\\ 백슬래시 2개 출력\n"
          ]
        }
      ]
    },
    {
      "cell_type": "code",
      "source": [
        "firstString = input(\"첫번째 문자열 :\")\n",
        "secondString = input(\"두번째 문자열 :\")\n",
        "\n",
        "length = len(firstString) - len(secondString)\n",
        "print(length)"
      ],
      "metadata": {
        "colab": {
          "base_uri": "https://localhost:8080/"
        },
        "id": "jqIe9BjeeZ-Q",
        "outputId": "b35d1742-e48a-4000-8223-13668ae4ab8a"
      },
      "execution_count": 18,
      "outputs": [
        {
          "output_type": "stream",
          "name": "stdout",
          "text": [
            "첫번째 문자열 :hghhh\n",
            "두번째 문자열 :hhjjjjj\n",
            "-2\n"
          ]
        }
      ]
    },
    {
      "cell_type": "code",
      "source": [
        " str1= \"\"\"\n",
        " 안산 공업고등학교 컴퓨터과, 안산 공업고등학교는\n",
        " 기계과, 전기과, 전자과, 화공과, 디자인과, 컴퓨터과로 총 6개의\n",
        " 과로 이뤄져있습니다.\n",
        " \"\"\"\n",
        " strlen = str1.count(\"안산\")\n",
        " print(strlen)"
      ],
      "metadata": {
        "colab": {
          "base_uri": "https://localhost:8080/"
        },
        "id": "jVOeCQqwiVeA",
        "outputId": "14ce52a5-8e5a-4a88-c3f2-514a7338a096"
      },
      "execution_count": 27,
      "outputs": [
        {
          "output_type": "stream",
          "name": "stdout",
          "text": [
            "2\n"
          ]
        }
      ]
    },
    {
      "cell_type": "code",
      "source": [
        "#Let it be 가사가 몇 번 나오는지 확인하는 프로그램\n",
        "#upper(), lower()\n",
        "\n",
        "lyrics  = \"\"\"\n",
        "When I find myself in times of trouble, Mother Mary comes to me\n",
        "Speaking words of wisdom, let it be\n",
        "And in my hour of darkness she is standing right in front of me\n",
        "Speaking words of wisdom, let it be\n",
        "Let it be, let it be, let it be, let it be\n",
        "Whisper words of wisdom, let it be\n",
        "And when the broken hearted people living in the world agree\n",
        "There will be an answer, let it be\n",
        "For though they may be parted, there is still a chance that they will see\n",
        "There will be an answer, let it be\n",
        "Let it be, let it be, let it be, let it be\n",
        "There will be an answer, let it be\n",
        "Let it be, let it be, let it be, let it be\n",
        "Whisper words of wisdom, let it be\n",
        "Let it be, let it be, let it be, let it be\n",
        "Whisper words of wisdom, let it be, be\n",
        "And when the night is cloudy there is still a light that shines on me\n",
        "Shinin' until tomorrow, let it be\n",
        "I wake up to the sound of music, Mother Mary comes to me\n",
        "Speaking words of wisdom, let it be\n",
        "And let it be, let it be, let it be, let it be\n",
        "Whisper words of wisdom, let it be\n",
        "And let it be, let it be, let it be, let it be\n",
        "Whisper words of wisdom, let it be \n",
        "\"\"\"\n",
        "ddddd = lyrics. lower()\n",
        "sssss = ddddd. count(\"let it be\")\n",
        "print(sssss)"
      ],
      "metadata": {
        "colab": {
          "base_uri": "https://localhost:8080/"
        },
        "id": "VP_0pMpBkVVZ",
        "outputId": "d2a78f86-3fe6-4b97-e362-c1f7f6bc9a27"
      },
      "execution_count": 29,
      "outputs": [
        {
          "output_type": "stream",
          "name": "stdout",
          "text": [
            "36\n"
          ]
        }
      ]
    }
  ]
}