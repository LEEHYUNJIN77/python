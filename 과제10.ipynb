{
  "nbformat": 4,
  "nbformat_minor": 0,
  "metadata": {
    "colab": {
      "provenance": [],
      "authorship_tag": "ABX9TyP5YKr5+cJ8hWOKfdO/X5hd",
      "include_colab_link": true
    },
    "kernelspec": {
      "name": "python3",
      "display_name": "Python 3"
    },
    "language_info": {
      "name": "python"
    }
  },
  "cells": [
    {
      "cell_type": "markdown",
      "metadata": {
        "id": "view-in-github",
        "colab_type": "text"
      },
      "source": [
        "<a href=\"https://colab.research.google.com/github/LEEHYUNJIN77/python/blob/main/%EA%B3%BC%EC%A0%9C10.ipynb\" target=\"_parent\"><img src=\"https://colab.research.google.com/assets/colab-badge.svg\" alt=\"Open In Colab\"/></a>"
      ]
    },
    {
      "cell_type": "code",
      "execution_count": 19,
      "metadata": {
        "colab": {
          "base_uri": "https://localhost:8080/"
        },
        "id": "Sgbn2KoDQWfj",
        "outputId": "193a2751-2d88-4d52-c9b6-c30b8f7d3e22"
      },
      "outputs": [
        {
          "output_type": "stream",
          "name": "stdout",
          "text": [
            "주사위 3개가 모두 1 이다.\n",
            "같은 숫자가 나오기 까지 3 번 던졌다.\n"
          ]
        }
      ],
      "source": [
        "import random\n",
        "\n",
        "count = 0\n",
        "while True :\n",
        "  count += 1\n",
        "  dice1 = random. randint (1,6)\n",
        "  dice2 = random. randint (1,6)\n",
        "  dice3 = random. randint (1,6)\n",
        "  if dice1 == dice2 == dice3 :\n",
        "    break\n",
        "\n",
        "print(\"주사위 3개가 모두\", dice1, \"이다.\")\n",
        "print(\"같은 숫자가 나오기 까지\", count,\"번 던졌다.\")\n"
      ]
    },
    {
      "cell_type": "code",
      "source": [
        "import random\n",
        "\n",
        "game_count  = 1\n",
        "computer_num = 0\n",
        "player = 0\n",
        "while game_count <= 10 :\n",
        "  computer_num = random.randint(1,5)\n",
        "  print(\"제\",game_count, \"회:\", end=\"\")\n",
        "  player = int(input(\"컴퓨터가 생각한 숫자는 ?\"))\n",
        "  game_count = game_count + 1"
      ],
      "metadata": {
        "colab": {
          "base_uri": "https://localhost:8080/"
        },
        "id": "uBTNyTV4Skh3",
        "outputId": "89d9c252-2170-46f7-8c90-2cc9ba7fa3a2"
      },
      "execution_count": 16,
      "outputs": [
        {
          "name": "stdout",
          "output_type": "stream",
          "text": [
            "제 1 회:컴퓨터가 생각한 숫자는 ?5\n",
            "제 2 회:컴퓨터가 생각한 숫자는 ?4\n",
            "제 3 회:컴퓨터가 생각한 숫자는 ?7\n",
            "제 4 회:컴퓨터가 생각한 숫자는 ?2\n",
            "제 5 회:컴퓨터가 생각한 숫자는 ?1\n",
            "제 6 회:컴퓨터가 생각한 숫자는 ?1\n",
            "제 7 회:컴퓨터가 생각한 숫자는 ?2\n",
            "제 8 회:컴퓨터가 생각한 숫자는 ?3\n",
            "제 9 회:컴퓨터가 생각한 숫자는 ?4\n",
            "제 10 회:컴퓨터가 생각한 숫자는 ?4\n"
          ]
        }
      ]
    },
    {
      "cell_type": "code",
      "source": [
        "import random\n",
        "secret_number = random.sample(range(1,10),3)#range() \n",
        "print(secret_number)\n",
        "print(secret_number[0])\n",
        "print(secret_number[1])\n",
        "print(secret_number[2])\n",
        "\n"
      ],
      "metadata": {
        "colab": {
          "base_uri": "https://localhost:8080/"
        },
        "id": "s2Wn0umGXE9I",
        "outputId": "c5ef9b46-66ae-4751-a785-9cda37417ac4"
      },
      "execution_count": 18,
      "outputs": [
        {
          "output_type": "stream",
          "name": "stdout",
          "text": [
            "[3, 8, 1]\n",
            "3\n",
            "8\n",
            "1\n"
          ]
        }
      ]
    },
    {
      "cell_type": "code",
      "source": [
        "import random\n",
        "game_count = 1\n",
        "secret_number = random.sample(range(1,10),3) # range()\n",
        "print(secret_number)\n",
        "while game_count <= 10 :\n",
        "  strike = 0\n",
        "  ball = 0\n",
        "  player_number = input(\"3자리 숫자를 입력 :\")\n",
        "  player_number = list(player_number)\n",
        "  player_number[0] = int(player_number[0])\n",
        "  player_number[1] = int(player_number[1])\n",
        "  player_number[2] = int(player_number[2])\n",
        "\n",
        "  if (secret_number[0] == player_number[0]) :\n",
        "    strike = strike + 1\n",
        "  elif player_number[0] in secret_number :\n",
        "    ball = ball + 1\n",
        "  if (secret_number[1] == player_number[1]) :\n",
        "    strike = strike + 1\n",
        "  elif player_number[1] in secret_number :\n",
        "    ball = ball + 1\n",
        "  if (secret_number[2] == player_number[2]) :\n",
        "    strike = strike + 1\n",
        "  elif player_number[2] in secret_number :\n",
        "    ball = ball + 1\n",
        "     \n",
        "  print(strike, \"-스트라이크  //  \", ball, \"-볼\")\n",
        "  if strike == 3 :\n",
        "     print(\"맞췄습니다 ^0^\")\n",
        "     break"
      ],
      "metadata": {
        "colab": {
          "base_uri": "https://localhost:8080/"
        },
        "id": "9Zs0Clg3jAxR",
        "outputId": "b541567e-e6ee-46a7-efaa-8b906b373c1e"
      },
      "execution_count": 20,
      "outputs": [
        {
          "output_type": "stream",
          "name": "stdout",
          "text": [
            "[9, 3, 4]\n",
            "3자리 숫자를 입력 :925\n",
            "1 -스트라이크  //   0 -볼\n",
            "3자리 숫자를 입력 :931\n",
            "2 -스트라이크  //   0 -볼\n",
            "3자리 숫자를 입력 :934\n",
            "3 -스트라이크  //   0 -볼\n",
            "맞췄습니다 ^0^\n"
          ]
        }
      ]
    }
  ]
}