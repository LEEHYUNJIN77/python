{
  "nbformat": 4,
  "nbformat_minor": 0,
  "metadata": {
    "colab": {
      "provenance": [],
      "authorship_tag": "ABX9TyN7ER010YPe8JaH5kV0zvdj",
      "include_colab_link": true
    },
    "kernelspec": {
      "name": "python3",
      "display_name": "Python 3"
    },
    "language_info": {
      "name": "python"
    }
  },
  "cells": [
    {
      "cell_type": "markdown",
      "metadata": {
        "id": "view-in-github",
        "colab_type": "text"
      },
      "source": [
        "<a href=\"https://colab.research.google.com/github/LEEHYUNJIN77/python/blob/main/%EA%B3%BC%EC%A0%9C4.ipynb\" target=\"_parent\"><img src=\"https://colab.research.google.com/assets/colab-badge.svg\" alt=\"Open In Colab\"/></a>"
      ]
    },
    {
      "cell_type": "code",
      "execution_count": 3,
      "metadata": {
        "colab": {
          "base_uri": "https://localhost:8080/"
        },
        "id": "-g1eQFM5TYC8",
        "outputId": "8d58d8cc-bcb9-4671-b3c9-88e8b2fe6498"
      },
      "outputs": [
        {
          "output_type": "stream",
          "name": "stdout",
          "text": [
            "오늘 총 판매액은  11600 입니다.\n"
          ]
        }
      ],
      "source": [
        "total = 0\n",
        "#구입한 물품\n",
        "total -= 900 *  10 #삼각김밥 10개\n",
        "total -= 3500 * 5  #도시락 5개\n",
        "\n",
        "#판매한 물품\n",
        "total += 1800 * 2  #바나나우유 2개\n",
        "total += 4000 * 4  # 도시락 4개\n",
        "total += 1500 * 1  #콜라 1개\n",
        "total += 2000 * 4  #새우깡 4개\n",
        "total += 1800 * 5  #캔커피 5개\n",
        "\n",
        "print(\"오늘 총 판매액은 \", total, \"입니다.\")"
      ]
    }
  ]
}