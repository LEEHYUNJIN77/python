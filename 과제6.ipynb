{
  "nbformat": 4,
  "nbformat_minor": 0,
  "metadata": {
    "colab": {
      "provenance": [],
      "authorship_tag": "ABX9TyO7WRX5D/SijO4UbZZBqTEC",
      "include_colab_link": true
    },
    "kernelspec": {
      "name": "python3",
      "display_name": "Python 3"
    },
    "language_info": {
      "name": "python"
    }
  },
  "cells": [
    {
      "cell_type": "markdown",
      "metadata": {
        "id": "view-in-github",
        "colab_type": "text"
      },
      "source": [
        "<a href=\"https://colab.research.google.com/github/LEEHYUNJIN77/python/blob/main/%EA%B3%BC%EC%A0%9C6.ipynb\" target=\"_parent\"><img src=\"https://colab.research.google.com/assets/colab-badge.svg\" alt=\"Open In Colab\"/></a>"
      ]
    },
    {
      "cell_type": "code",
      "execution_count": 3,
      "metadata": {
        "colab": {
          "base_uri": "https://localhost:8080/"
        },
        "id": "NTg8nTRzJPWc",
        "outputId": "7aeef9a1-a1cd-47f5-9a44-21e1c3defb12"
      },
      "outputs": [
        {
          "output_type": "stream",
          "name": "stdout",
          "text": [
            "원본 문자열: 트 와 이 스\n",
            "반대 문자열: ('스', '이', '와', '트')\n"
          ]
        }
      ],
      "source": [
        "singer = (\"트\",\"와\",\"이\",\"스\")\n",
        "reverse_singer = singer[3],singer[2],singer[1],singer[0],\n",
        "\n",
        "print(\"원본 문자열:\", singer[0],singer[1],singer[2],singer[3])\n",
        "print(\"반대 문자열:\", reverse_singer)"
      ]
    },
    {
      "cell_type": "code",
      "source": [
        "singer = \"트와이스\"\n",
        "\n",
        "print(\"원본 문자열:\",singer)\n",
        "print(\"반대 문자열:\",singer[::-1])"
      ],
      "metadata": {
        "colab": {
          "base_uri": "https://localhost:8080/"
        },
        "id": "9i8S-taTPjrN",
        "outputId": "d370d96f-ba91-4b1e-f48b-3285fcf9dbee"
      },
      "execution_count": 7,
      "outputs": [
        {
          "output_type": "stream",
          "name": "stdout",
          "text": [
            "원본 문자열: 트와이스\n",
            "반대 문자열: 스이와트\n"
          ]
        }
      ]
    },
    {
      "cell_type": "code",
      "source": [
        "myString=\"Python\"\n",
        "\n",
        "resultString = myString[0].lower()+myString[1:6].upper()\n",
        "print(resultString)"
      ],
      "metadata": {
        "colab": {
          "base_uri": "https://localhost:8080/"
        },
        "id": "ZvzzC-nqP_Y0",
        "outputId": "1e86c468-1730-42f1-de88-5274cb7eaf57"
      },
      "execution_count": 10,
      "outputs": [
        {
          "output_type": "stream",
          "name": "stdout",
          "text": [
            "pYTHON\n"
          ]
        }
      ]
    }
  ]
}