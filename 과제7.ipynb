{
  "nbformat": 4,
  "nbformat_minor": 0,
  "metadata": {
    "colab": {
      "provenance": [],
      "authorship_tag": "ABX9TyPRskFpDcz2z/rfNDAvhyTk",
      "include_colab_link": true
    },
    "kernelspec": {
      "name": "python3",
      "display_name": "Python 3"
    },
    "language_info": {
      "name": "python"
    }
  },
  "cells": [
    {
      "cell_type": "markdown",
      "metadata": {
        "id": "view-in-github",
        "colab_type": "text"
      },
      "source": [
        "<a href=\"https://colab.research.google.com/github/LEEHYUNJIN77/python/blob/main/%EA%B3%BC%EC%A0%9C7.ipynb\" target=\"_parent\"><img src=\"https://colab.research.google.com/assets/colab-badge.svg\" alt=\"Open In Colab\"/></a>"
      ]
    },
    {
      "cell_type": "code",
      "execution_count": 1,
      "metadata": {
        "colab": {
          "base_uri": "https://localhost:8080/"
        },
        "id": "YP_jIy_WXxfB",
        "outputId": "dcf5443e-51f7-47c8-bbbb-01f2b26ca128"
      },
      "outputs": [
        {
          "output_type": "stream",
          "name": "stdout",
          "text": [
            "100보다\n",
            "큽니다.\n",
            "프로그램 끝\n"
          ]
        }
      ],
      "source": [
        "num = 200\n",
        "if num > 100:\n",
        "  print(\"100보다\")\n",
        "  print(\"큽니다.\")\n",
        "  print(\"프로그램 끝\")"
      ]
    },
    {
      "cell_type": "code",
      "source": [
        "num = int(input(\"정수를 입력:\"))\n",
        "if num%2 == 0 : \n",
        "  print(\"짝수\")\n",
        "  print(\"입니다.\")\n",
        "else :\n",
        "  print(\"홀수\")"
      ],
      "metadata": {
        "colab": {
          "base_uri": "https://localhost:8080/"
        },
        "id": "43FKq4wDYM-l",
        "outputId": "fa6e184d-20eb-4e1e-e99a-bc9f7ffbcddd"
      },
      "execution_count": 4,
      "outputs": [
        {
          "output_type": "stream",
          "name": "stdout",
          "text": [
            "정수를 입력:55\n",
            "홀수\n"
          ]
        }
      ]
    },
    {
      "cell_type": "code",
      "source": [
        "num = int(input(\"숫자를 입력 :\"))\n",
        "\n",
        "if num % 2 ==0 :\n",
        "  print(\"짝수입니다.\")\n",
        "else :\n",
        "  print(\"홀수입니다.\")"
      ],
      "metadata": {
        "colab": {
          "base_uri": "https://localhost:8080/"
        },
        "id": "YmQGBwZ_ZM1U",
        "outputId": "b71e7fec-29aa-4910-f6d4-89dbaaf9c424"
      },
      "execution_count": 9,
      "outputs": [
        {
          "output_type": "stream",
          "name": "stdout",
          "text": [
            "숫자를 입력 :55\n",
            "홀수입니다.\n"
          ]
        }
      ]
    },
    {
      "cell_type": "code",
      "source": [
        "num =  int(input(\"숫자를 입력:\"))\n",
        "if num >= 100 :\n",
        "  if num <= 1000 :\n",
        "    print(\"100에서 1000사이다.\")\n",
        "  else :\n",
        "    print(\"1000보다 크다\")\n",
        "else :\n",
        "  print(\"100보다 작다\")\n",
        "\n",
        "  "
      ],
      "metadata": {
        "colab": {
          "base_uri": "https://localhost:8080/"
        },
        "id": "5ENDdexiZvUo",
        "outputId": "cad04c75-1d04-4a42-a60e-6a9b48c69955"
      },
      "execution_count": 16,
      "outputs": [
        {
          "output_type": "stream",
          "name": "stdout",
          "text": [
            "숫자를 입력:100005\n",
            "1000보다 크다\n"
          ]
        }
      ]
    },
    {
      "cell_type": "code",
      "source": [
        "score = int(input(\"점수를 입력.:\"))\n",
        "if score >= 90 :\n",
        "  print(\"A\", end = '')\n",
        "else :\n",
        "    if score >= 80 :\n",
        "      print(\"B\", end = '')\n",
        "    else :\n",
        "      if score >= 70 :\n",
        "       print(\"C\", end = '')\n",
        "      else :\n",
        "        if score >= 60 :\n",
        "          print(\"D\", end = '')\n",
        "        else :\n",
        "            print(\"F\", end = '')\n",
        "print(\"학점입니다.\")"
      ],
      "metadata": {
        "colab": {
          "base_uri": "https://localhost:8080/"
        },
        "id": "aZ1Y4Ec6cJXd",
        "outputId": "dc2acfc4-f372-4eb9-f53b-3cc063673354"
      },
      "execution_count": 21,
      "outputs": [
        {
          "output_type": "stream",
          "name": "stdout",
          "text": [
            "점수를 입력.:74\n",
            "C학점입니다.\n"
          ]
        }
      ]
    }
  ]
}