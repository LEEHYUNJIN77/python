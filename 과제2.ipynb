{
  "nbformat": 4,
  "nbformat_minor": 0,
  "metadata": {
    "colab": {
      "provenance": [],
      "authorship_tag": "ABX9TyNYuj25C1CGFSrim5Vl8Rfb",
      "include_colab_link": true
    },
    "kernelspec": {
      "name": "python3",
      "display_name": "Python 3"
    },
    "language_info": {
      "name": "python"
    }
  },
  "cells": [
    {
      "cell_type": "markdown",
      "metadata": {
        "id": "view-in-github",
        "colab_type": "text"
      },
      "source": [
        "<a href=\"https://colab.research.google.com/github/LEEHYUNJIN77/python/blob/main/%EA%B3%BC%EC%A0%9C2.ipynb\" target=\"_parent\"><img src=\"https://colab.research.google.com/assets/colab-badge.svg\" alt=\"Open In Colab\"/></a>"
      ]
    },
    {
      "cell_type": "code",
      "execution_count": 7,
      "metadata": {
        "colab": {
          "base_uri": "https://localhost:8080/"
        },
        "id": "pTdf03i5GxW0",
        "outputId": "353f73e7-ece5-43e6-c631-f84f5befcf43"
      },
      "outputs": [
        {
          "output_type": "stream",
          "name": "stdout",
          "text": [
            "첫번째 점수 입력 :55\n",
            "두번째 점수 입력 :454\n",
            "55 + 454.0 = 509.0\n",
            "숫자1 ==>41\n",
            "숫자2 ==>23\n",
            "41 + 23 = 64\n",
            "41 - 23 = 18\n",
            "41 * 23 = 943\n",
            "41 / 23 = 1.7826086956521738\n",
            "41 % 23 = 18\n",
            "41 ** 23 = 12417343769139486882278320020632149721\n"
          ]
        }
      ],
      "source": [
        "num1 = int (input(\"첫번째 점수 입력 :\"))\n",
        "num2 = float (input(\"두번째 점수 입력 :\"))\n",
        "\n",
        "sum = num1 + num2\n",
        "print(num1, \"+\", num2, \"=\", sum)\n",
        "\n",
        "num1 = int(input(\"숫자1 ==>\"))\n",
        "num2 = int(input(\"숫자2 ==>\"))\n",
        "\n",
        "result1 = num1 + num2\n",
        "result2 = num1 - num2\n",
        "result3 = num1 * num2\n",
        "result4 = num1 / num2\n",
        "result5 = num1 % num2\n",
        "result6 = num1 ** num2\n",
        "\n",
        "print(num1, \"+\", num2, \"=\", result1 )\n",
        "print(num1, \"-\", num2, \"=\", result2 )\n",
        "print(num1, \"*\", num2, \"=\", result3 )\n",
        "print(num1, \"/\", num2, \"=\", result4 )\n",
        "print(num1, \"%\", num2, \"=\", result5 )\n",
        "print(num1, \"**\", num2, \"=\", result6 )"
      ]
    }
  ]
}