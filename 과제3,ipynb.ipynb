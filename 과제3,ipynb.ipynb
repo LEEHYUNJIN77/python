{
  "nbformat": 4,
  "nbformat_minor": 0,
  "metadata": {
    "colab": {
      "provenance": [],
      "authorship_tag": "ABX9TyM7Xt+xGX9xHGevOIAlWtEj",
      "include_colab_link": true
    },
    "kernelspec": {
      "name": "python3",
      "display_name": "Python 3"
    },
    "language_info": {
      "name": "python"
    }
  },
  "cells": [
    {
      "cell_type": "markdown",
      "metadata": {
        "id": "view-in-github",
        "colab_type": "text"
      },
      "source": [
        "<a href=\"https://colab.research.google.com/github/LEEHYUNJIN77/python/blob/main/%EA%B3%BC%EC%A0%9C3%2Cipynb.ipynb\" target=\"_parent\"><img src=\"https://colab.research.google.com/assets/colab-badge.svg\" alt=\"Open In Colab\"/></a>"
      ]
    },
    {
      "cell_type": "code",
      "execution_count": 2,
      "metadata": {
        "colab": {
          "base_uri": "https://localhost:8080/"
        },
        "id": "Wmc0NuEPMphb",
        "outputId": "d9ca7c4f-6ab3-4ff4-c597-6d10cefc5e46"
      },
      "outputs": [
        {
          "output_type": "stream",
          "name": "stdout",
          "text": [
            "파운드 (lb)를 입력하세요 :254\n",
            "254 파운드(lb)는 115.21237 킬로그램(kg) 입니다.\n",
            "킬로그램(kg)을 입력하세요. :2252\n",
            "2252 킬로그램(kg)은 4964.811 파운드 (lb) 입니다.\n"
          ]
        }
      ],
      "source": [
        "pound = int(input(\"파운드 (lb)를 입력하세요 :\"))\n",
        "kg = pound * 0.453592\n",
        "print(pound, \"파운드(lb)는\",round(kg,5), \"킬로그램(kg) 입니다.\")\n",
        "\n",
        "kg = int (input(\"킬로그램(kg)을 입력하세요. :\"))\n",
        "pound = kg * 2.204623\n",
        "print(kg, \"킬로그램(kg)은\", round(pound, 5), \"파운드 (lb) 입니다.\")"
      ]
    }
  ]
}